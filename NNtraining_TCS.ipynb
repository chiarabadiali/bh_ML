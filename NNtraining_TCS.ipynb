{
 "cells": [
  {
   "cell_type": "code",
   "execution_count": 1,
   "metadata": {},
   "outputs": [],
   "source": [
    "import pandas as pd \n",
    "import numpy as np\n",
    "import math\n",
    "import keras\n",
    "import tensorflow as tf\n",
    "import progressbar\n",
    "import os\n",
    "from os import listdir\n",
    "from matplotlib import pyplot as plt\n",
    "import imblearn\n",
    "from imblearn.under_sampling import RandomUnderSampler"
   ]
  },
  {
   "cell_type": "markdown",
   "metadata": {},
   "source": [
    "## Print Dependencies\n",
    "\n",
    "\n",
    "Dependences are fundamental to record the computational environment."
   ]
  },
  {
   "cell_type": "code",
   "execution_count": 2,
   "metadata": {},
   "outputs": [
    {
     "name": "stdout",
     "output_type": "stream",
     "text": [
      "Python implementation: CPython\n",
      "Python version       : 3.9.9\n",
      "IPython version      : 7.26.0\n",
      "\n",
      "pandas    : 1.2.3\n",
      "keras     : 2.4.3\n",
      "numpy     : None\n",
      "math      : unknown\n",
      "tensorflow: 2.5.0\n",
      "matplotlib: 3.4.2\n",
      "h5py      : 3.1.0\n",
      "imblearn  : 0.8.1\n",
      "\n",
      "Compiler    : Clang 12.0.0 (clang-1200.0.32.29)\n",
      "OS          : Darwin\n",
      "Release     : 21.4.0\n",
      "Machine     : x86_64\n",
      "Processor   : i386\n",
      "CPU cores   : 8\n",
      "Architecture: 64bit\n",
      "\n",
      " \n",
      "Last updated: Thu Jul 14 2022 11:15:17WEST\n",
      "\n"
     ]
    }
   ],
   "source": [
    "%load_ext watermark\n",
    "\n",
    "# python, ipython, packages, and machine characteristics\n",
    "%watermark -v -m -p pandas,keras,numpy,math,tensorflow,matplotlib,h5py,imblearn\n",
    "\n",
    "# date\n",
    "print (\" \")\n",
    "%watermark -u -n -t -z"
   ]
  },
  {
   "cell_type": "markdown",
   "metadata": {},
   "source": [
    "## Some useful functions"
   ]
  },
  {
   "cell_type": "code",
   "execution_count": 3,
   "metadata": {},
   "outputs": [],
   "source": [
    "def prepare_data(class_data): \n",
    "    np.random.shuffle(class_data)\n",
    "    iX = np.arange(class_data.shape[0])\n",
    "    np.random.shuffle(iX)\n",
    "    class_data = class_data[iX]\n",
    "    #change this value if you want to change the normalization factor of the TCS (to have a better training)\n",
    "    #but please keep in mind that if you use the sigmoid as the last layer you have to have values between 0 and 1\n",
    "    #to predict!\n",
    "    norm = 1e26\n",
    "    class_data[:,2] *= norm\n",
    "    y = class_data[:,2]\n",
    "    x = class_data[:,0:2]\n",
    "    #the number of columns you take it's going to change depending on the case you have\n",
    "    train_split = 0.85\n",
    "    train_limit = int(len(y)*train_split)\n",
    "    print(\"Training sample of: {0} \\nValuation sample: {1}\".format(train_limit, len(y)-train_limit))\n",
    "    x_train = x[:train_limit]\n",
    "    x_val = x[train_limit:]\n",
    "    y_train = y[:train_limit]\n",
    "    y_val = y[train_limit:]\n",
    "    if np.isnan(np.min(y)) == False:\n",
    "        return x_train, y_train, x_val, y_val"
   ]
  },
  {
   "cell_type": "code",
   "execution_count": 4,
   "metadata": {},
   "outputs": [],
   "source": [
    "def plot_histo(x, y, bins,logscale):\n",
    "    y = np.array(y)\n",
    "    plt.hist(y, bins, color = 'indianred', alpha=0.5, label='Osiris')\n",
    "    plt.legend(loc='upper right')\n",
    "    plt.xlabel('Probability')\n",
    "    if logscale == 1:\n",
    "        plt.yscale('log')\n",
    "    plt.title('Trained on ($p_e$, $p_{\\gamma}$, $\\omega_e$, $\\omega_{\\gamma}$, n)')\n",
    "    plt.show()"
   ]
  },
  {
   "cell_type": "code",
   "execution_count": 5,
   "metadata": {},
   "outputs": [],
   "source": [
    "def loaddata(name):\n",
    "     return np.loadtxt(name, delimiter=',')"
   ]
  },
  {
   "cell_type": "code",
   "execution_count": 6,
   "metadata": {},
   "outputs": [],
   "source": [
    "def balance_data2(class_data, nbins, ratio):\n",
    "    y = class_data[:,2]\n",
    "    n, edges, _ = plt.hist(y, nbins, color = 'indianred', alpha=0.5, label='Osiris')\n",
    "    n_max = int(n.max())*ratio\n",
    "    data = []\n",
    "    bar = progressbar.ProgressBar(maxval=len(class_data), \n",
    "                              widgets=[progressbar.Bar('=', '[', ']'), ' ', \n",
    "                                       progressbar.Percentage(), \n",
    "                                       \" of {0}\".format(len(class_data))])\n",
    "    bar.start()\n",
    "    cow = 0\n",
    "    for k, class_ in enumerate(class_data):\n",
    "        for i in range(len(n)):\n",
    "            edges_min = edges[i]\n",
    "            edges_max = edges[i+1]\n",
    "            if class_[0] > edges_min and class_[0] < edges_max:\n",
    "                if int(n[i]/n_max) > 1 :\n",
    "                    step = int(n[i]/n_max)\n",
    "                    if cow%step==0:\n",
    "                        data.append(class_)\n",
    "                    cow +=1\n",
    "                else:\n",
    "                    for j in range(int(n_max/(n[i]))):\n",
    "                        data.append(class_)\n",
    "        bar.update(k+1)\n",
    "            \n",
    "    bar.finish()\n",
    "\n",
    "    #plt.hist(data, nbins, color = 'indianred', alpha=0.5, label='Osiris')\n",
    "    \n",
    "    return np.array(data)"
   ]
  },
  {
   "cell_type": "code",
   "execution_count": 7,
   "metadata": {},
   "outputs": [],
   "source": [
    "def balance_data(class_data, nbins):\n",
    "    y = class_data[:,2]\n",
    "    n, edges, _ = plt.hist(y, nbins, color = 'indianred', alpha=0.5, label='Osiris')\n",
    "    n_max = int(n.max())\n",
    "    data = []\n",
    "    bar = progressbar.ProgressBar(maxval=len(class_data), \n",
    "                              widgets=[progressbar.Bar('=', '[', ']'), ' ', \n",
    "                                       progressbar.Percentage(), \n",
    "                                       \" of {0}\".format(len(class_data))])\n",
    "    bar.start()\n",
    "    for k, class_ in enumerate(class_data):\n",
    "        for i in range(len(n)):\n",
    "            edges_min = edges[i]\n",
    "            edges_max = edges[i+1]\n",
    "            if class_[2] >= edges_min and class_[2] <= edges_max:\n",
    "                for j in range(int((n_max/n[i]))):\n",
    "                    data.append(class_)\n",
    "                break\n",
    "        bar.update(k+1)\n",
    "    bar.finish()\n",
    "\n",
    "    return np.array(data)"
   ]
  },
  {
   "cell_type": "code",
   "execution_count": 8,
   "metadata": {},
   "outputs": [],
   "source": [
    "def plot_history(history):\n",
    "    loss = history.history['loss']\n",
    "    val_loss = history.history['val_loss']\n",
    "\n",
    "    accuracy = history.history['mape']\n",
    "    val_accuracy = history.history['val_mape']\n",
    "\n",
    "\n",
    "    epochs = range(1, len(loss) + 1)\n",
    "    fig, ax1 = plt.subplots()\n",
    "\n",
    "    l1 = ax1.plot(epochs, loss, 'bo', label='Training loss')\n",
    "    vl1 = ax1.plot(epochs, val_loss, 'b', label='Validation loss')\n",
    "    ax1.set_title('Training and validation loss')\n",
    "    ax1.set_xlabel('Epochs')\n",
    "    ax1.set_ylabel('Loss (mae))')\n",
    "\n",
    "    ax2 = ax1.twinx()\n",
    "    ac2= ax2.plot(epochs, accuracy, 'o', c=\"red\", label='Training acc')\n",
    "    vac2= ax2.plot(epochs, val_accuracy, 'r', label='Validation acc')\n",
    "    ax2.set_ylabel('mape')\n",
    "\n",
    "    lns = l1 + vl1 + ac2 + vac2\n",
    "    labs = [l.get_label() for l in lns]\n",
    "    ax2.legend(lns, labs, loc=\"center right\")\n",
    "    fig.tight_layout()\n",
    "    fig.show()"
   ]
  },
  {
   "cell_type": "markdown",
   "metadata": {},
   "source": [
    "## Our beautiful probability distributions (non balanced)"
   ]
  },
  {
   "cell_type": "code",
   "execution_count": 9,
   "metadata": {},
   "outputs": [],
   "source": [
    "BH_tcs = loaddata(\"data_betheheitler/data/{}.csv\".format('BH_tcs'))"
   ]
  },
  {
   "cell_type": "code",
   "execution_count": 10,
   "metadata": {},
   "outputs": [
    {
     "data": {
      "text/plain": [
       "(10000, 3)"
      ]
     },
     "execution_count": 10,
     "metadata": {},
     "output_type": "execute_result"
    }
   ],
   "source": [
    "BH_tcs.shape"
   ]
  },
  {
   "cell_type": "code",
   "execution_count": 11,
   "metadata": {},
   "outputs": [
    {
     "name": "stdout",
     "output_type": "stream",
     "text": [
      "[[  1.]\n",
      " [  1.]\n",
      " [  1.]\n",
      " ...\n",
      " [100.]\n",
      " [100.]\n",
      " [100.]]\n"
     ]
    }
   ],
   "source": [
    "print(BH_tcs[:,0:1])"
   ]
  },
  {
   "cell_type": "code",
   "execution_count": 12,
   "metadata": {},
   "outputs": [
    {
     "name": "stdout",
     "output_type": "stream",
     "text": [
      "Training sample of: 8500 \n",
      "Valuation sample: 1500\n"
     ]
    }
   ],
   "source": [
    "x0_train, y0_train, x0_val, y0_val = prepare_data(BH_tcs)"
   ]
  },
  {
   "cell_type": "code",
   "execution_count": 13,
   "metadata": {},
   "outputs": [
    {
     "data": {
      "text/plain": [
       "array([0.02954367, 0.05492832, 0.21231345, ..., 0.0020226 , 0.00373216,\n",
       "       0.14915989])"
      ]
     },
     "execution_count": 13,
     "metadata": {},
     "output_type": "execute_result"
    }
   ],
   "source": [
    "y0_train"
   ]
  },
  {
   "cell_type": "code",
   "execution_count": 23,
   "metadata": {},
   "outputs": [
    {
     "data": {
      "image/png": "[encoded data removed]",
      "text/plain": [
       "<Figure size 432x288 with 1 Axes>"
      ]
     },
     "metadata": {
      "needs_background": "light"
     },
     "output_type": "display_data"
    }
   ],
   "source": [
    "bins = np.linspace(0.000, 1., 500)\n",
    "plot_histo(x0_train,y0_train,bins,1)"
   ]
  },
  {
   "cell_type": "code",
   "execution_count": 15,
   "metadata": {},
   "outputs": [
    {
     "data": {
      "text/plain": [
       "(8500, 2)"
      ]
     },
     "execution_count": 15,
     "metadata": {},
     "output_type": "execute_result"
    }
   ],
   "source": [
    "x0_train.shape"
   ]
  },
  {
   "cell_type": "markdown",
   "metadata": {},
   "source": [
    "## Model Build\n",
    "\n",
    "__1)__ This is the first step in our chaing of Transfer Learning. We have to buil the model that we're going to reuse also in the next trainings. "
   ]
  },
  {
   "cell_type": "code",
   "execution_count": 16,
   "metadata": {},
   "outputs": [],
   "source": [
    "from keras.models import Sequential\n",
    "from keras.layers.core import Dense\n",
    "import keras.backend as K\n",
    "from keras import optimizers\n",
    "from keras import models\n",
    "from keras import layers\n",
    "from keras.layers.normalization import BatchNormalization"
   ]
  },
  {
   "cell_type": "code",
   "execution_count": 17,
   "metadata": {},
   "outputs": [],
   "source": [
    "def build_model() :\n",
    "    model = models.Sequential()\n",
    "    model.add (BatchNormalization(input_dim = 2))\n",
    "    model.add (layers.Dense (2 , activation = \"relu\"))\n",
    "    model.add (layers.Dense (2 , activation = \"relu\"))\n",
    "    model.add (layers.Dense (1 , activation = \"sigmoid\"))\n",
    "    model.compile(optimizer = \"adam\" , loss = 'mape' , metrics = [\"binary_crossentropy\",\"mae\"])\n",
    "    return model"
   ]
  },
  {
   "cell_type": "code",
   "execution_count": 18,
   "metadata": {
    "scrolled": true
   },
   "outputs": [
    {
     "name": "stderr",
     "output_type": "stream",
     "text": [
      "2022-07-14 11:15:18.763455: I tensorflow/core/platform/cpu_feature_guard.cc:142] This TensorFlow binary is optimized with oneAPI Deep Neural Network Library (oneDNN) to use the following CPU instructions in performance-critical operations:  AVX2 FMA\n",
      "To enable them in other operations, rebuild TensorFlow with the appropriate compiler flags.\n",
      "2022-07-14 11:15:18.976603: I tensorflow/compiler/mlir/mlir_graph_optimization_pass.cc:176] None of the MLIR Optimization Passes are enabled (registered 2)\n"
     ]
    },
    {
     "name": "stdout",
     "output_type": "stream",
     "text": [
      "Epoch 1/100\n",
      "266/266 [==============================] - 12s 3ms/step - loss: 21346.1137 - binary_crossentropy: 0.6831 - mae: 0.3418 - val_loss: 28778.6328 - val_binary_crossentropy: 0.6363 - val_mae: 0.3110\n",
      "Epoch 2/100\n",
      "266/266 [==============================] - 0s 1ms/step - loss: 21536.8835 - binary_crossentropy: 0.6071 - mae: 0.2921 - val_loss: 18728.1191 - val_binary_crossentropy: 0.5108 - val_mae: 0.2170\n",
      "Epoch 3/100\n",
      "266/266 [==============================] - 0s 1ms/step - loss: 11751.3124 - binary_crossentropy: 0.4944 - mae: 0.1989 - val_loss: 12484.7295 - val_binary_crossentropy: 0.4429 - val_mae: 0.1518\n",
      "Epoch 4/100\n",
      "266/266 [==============================] - 0s 1ms/step - loss: 10169.2790 - binary_crossentropy: 0.4436 - mae: 0.1445 - val_loss: 8479.8877 - val_binary_crossentropy: 0.4245 - val_mae: 0.1233\n",
      "Epoch 5/100\n",
      "266/266 [==============================] - 0s 1ms/step - loss: 5961.9964 - binary_crossentropy: 0.4405 - mae: 0.1283 - val_loss: 5839.0752 - val_binary_crossentropy: 0.4338 - val_mae: 0.1159\n",
      "Epoch 6/100\n",
      "266/266 [==============================] - 0s 944us/step - loss: 3878.5406 - binary_crossentropy: 0.4568 - mae: 0.1253 - val_loss: 4102.6392 - val_binary_crossentropy: 0.4578 - val_mae: 0.1184\n",
      "Epoch 7/100\n",
      "266/266 [==============================] - 0s 1ms/step - loss: 3164.3478 - binary_crossentropy: 0.4591 - mae: 0.1213 - val_loss: 3000.3552 - val_binary_crossentropy: 0.4848 - val_mae: 0.1229\n",
      "Epoch 8/100\n",
      "266/266 [==============================] - 0s 1ms/step - loss: 2518.0774 - binary_crossentropy: 0.5027 - mae: 0.1293 - val_loss: 2244.6960 - val_binary_crossentropy: 0.5122 - val_mae: 0.1275\n",
      "Epoch 9/100\n",
      "266/266 [==============================] - 0s 1ms/step - loss: 1564.8814 - binary_crossentropy: 0.5345 - mae: 0.1358 - val_loss: 1734.1548 - val_binary_crossentropy: 0.5353 - val_mae: 0.1310\n",
      "Epoch 10/100\n",
      "266/266 [==============================] - 0s 1ms/step - loss: 1282.1282 - binary_crossentropy: 0.5501 - mae: 0.1361 - val_loss: 1351.1375 - val_binary_crossentropy: 0.5579 - val_mae: 0.1341\n",
      "Epoch 11/100\n",
      "266/266 [==============================] - 0s 1ms/step - loss: 959.2588 - binary_crossentropy: 0.5859 - mae: 0.1422 - val_loss: 1072.1932 - val_binary_crossentropy: 0.5689 - val_mae: 0.1352\n",
      "Epoch 12/100\n",
      "266/266 [==============================] - 0s 1ms/step - loss: 825.7409 - binary_crossentropy: 0.5912 - mae: 0.1419 - val_loss: 866.0324 - val_binary_crossentropy: 0.5677 - val_mae: 0.1344\n",
      "Epoch 13/100\n",
      "266/266 [==============================] - 0s 1ms/step - loss: 628.2158 - binary_crossentropy: 0.5842 - mae: 0.1396 - val_loss: 709.8638 - val_binary_crossentropy: 0.5564 - val_mae: 0.1319\n",
      "Epoch 14/100\n",
      "266/266 [==============================] - 0s 1ms/step - loss: 549.5593 - binary_crossentropy: 0.5725 - mae: 0.1375 - val_loss: 589.5362 - val_binary_crossentropy: 0.5362 - val_mae: 0.1277\n",
      "Epoch 15/100\n",
      "266/266 [==============================] - 0s 1ms/step - loss: 381.4971 - binary_crossentropy: 0.5434 - mae: 0.1312 - val_loss: 492.9125 - val_binary_crossentropy: 0.5289 - val_mae: 0.1257\n",
      "Epoch 16/100\n",
      "266/266 [==============================] - 0s 1ms/step - loss: 355.5121 - binary_crossentropy: 0.5323 - mae: 0.1287 - val_loss: 417.9221 - val_binary_crossentropy: 0.5231 - val_mae: 0.1248\n",
      "Epoch 17/100\n",
      "266/266 [==============================] - 0s 1ms/step - loss: 270.8483 - binary_crossentropy: 0.5397 - mae: 0.1306 - val_loss: 358.7702 - val_binary_crossentropy: 0.5119 - val_mae: 0.1222\n",
      "Epoch 18/100\n",
      "266/266 [==============================] - 0s 1ms/step - loss: 267.1476 - binary_crossentropy: 0.5190 - mae: 0.1254 - val_loss: 310.5833 - val_binary_crossentropy: 0.5273 - val_mae: 0.1255\n",
      "Epoch 19/100\n",
      "266/266 [==============================] - 0s 1ms/step - loss: 246.6338 - binary_crossentropy: 0.5423 - mae: 0.1315 - val_loss: 272.1042 - val_binary_crossentropy: 0.5073 - val_mae: 0.1214\n",
      "Epoch 20/100\n",
      "266/266 [==============================] - 0s 1ms/step - loss: 211.4298 - binary_crossentropy: 0.5292 - mae: 0.1290 - val_loss: 240.5458 - val_binary_crossentropy: 0.5129 - val_mae: 0.1229\n",
      "Epoch 21/100\n",
      "266/266 [==============================] - 0s 1ms/step - loss: 183.5913 - binary_crossentropy: 0.5255 - mae: 0.1275 - val_loss: 214.5767 - val_binary_crossentropy: 0.5124 - val_mae: 0.1225\n",
      "Epoch 22/100\n",
      "266/266 [==============================] - 0s 1ms/step - loss: 165.2239 - binary_crossentropy: 0.5285 - mae: 0.1278 - val_loss: 194.0542 - val_binary_crossentropy: 0.4960 - val_mae: 0.1191\n",
      "Epoch 23/100\n",
      "266/266 [==============================] - 0s 1ms/step - loss: 154.2205 - binary_crossentropy: 0.5122 - mae: 0.1248 - val_loss: 176.1640 - val_binary_crossentropy: 0.4992 - val_mae: 0.1197\n",
      "Epoch 24/100\n",
      "266/266 [==============================] - 0s 1ms/step - loss: 146.2535 - binary_crossentropy: 0.5203 - mae: 0.1266 - val_loss: 161.5395 - val_binary_crossentropy: 0.4946 - val_mae: 0.1189\n",
      "Epoch 25/100\n",
      "266/266 [==============================] - 0s 1ms/step - loss: 127.1153 - binary_crossentropy: 0.4971 - mae: 0.1213 - val_loss: 148.5719 - val_binary_crossentropy: 0.4854 - val_mae: 0.1171\n",
      "Epoch 26/100\n",
      "266/266 [==============================] - 0s 1ms/step - loss: 119.6034 - binary_crossentropy: 0.4968 - mae: 0.1213 - val_loss: 140.1213 - val_binary_crossentropy: 0.4775 - val_mae: 0.1138\n",
      "Epoch 27/100\n",
      "266/266 [==============================] - 0s 1ms/step - loss: 118.7858 - binary_crossentropy: 0.4748 - mae: 0.1139 - val_loss: 130.1397 - val_binary_crossentropy: 0.4608 - val_mae: 0.1086\n",
      "Epoch 28/100\n",
      "266/266 [==============================] - 0s 1ms/step - loss: 114.5656 - binary_crossentropy: 0.4596 - mae: 0.1090 - val_loss: 121.8703 - val_binary_crossentropy: 0.4468 - val_mae: 0.1010\n",
      "Epoch 29/100\n",
      "266/266 [==============================] - 0s 955us/step - loss: 110.4241 - binary_crossentropy: 0.4417 - mae: 0.0991 - val_loss: 115.2678 - val_binary_crossentropy: 0.4352 - val_mae: 0.0967\n",
      "Epoch 30/100\n",
      "266/266 [==============================] - 0s 943us/step - loss: 102.2619 - binary_crossentropy: 0.4466 - mae: 0.1004 - val_loss: 109.1038 - val_binary_crossentropy: 0.4244 - val_mae: 0.0919\n",
      "Epoch 31/100\n",
      "266/266 [==============================] - 0s 1ms/step - loss: 97.0647 - binary_crossentropy: 0.4190 - mae: 0.0898 - val_loss: 105.2884 - val_binary_crossentropy: 0.4253 - val_mae: 0.0905\n",
      "Epoch 32/100\n",
      "266/266 [==============================] - 0s 1ms/step - loss: 99.1315 - binary_crossentropy: 0.4374 - mae: 0.0956 - val_loss: 101.5329 - val_binary_crossentropy: 0.4274 - val_mae: 0.0900\n",
      "Epoch 33/100\n",
      "266/266 [==============================] - 0s 1ms/step - loss: 92.4691 - binary_crossentropy: 0.4263 - mae: 0.0913 - val_loss: 97.1601 - val_binary_crossentropy: 0.4185 - val_mae: 0.0865\n",
      "Epoch 34/100\n",
      "266/266 [==============================] - 0s 1ms/step - loss: 84.8008 - binary_crossentropy: 0.4225 - mae: 0.0873 - val_loss: 92.2769 - val_binary_crossentropy: 0.4204 - val_mae: 0.0874\n",
      "Epoch 35/100\n",
      "266/266 [==============================] - 0s 1ms/step - loss: 87.2962 - binary_crossentropy: 0.4281 - mae: 0.0901 - val_loss: 88.8002 - val_binary_crossentropy: 0.4197 - val_mae: 0.0870\n",
      "Epoch 36/100\n",
      "266/266 [==============================] - 0s 970us/step - loss: 82.9454 - binary_crossentropy: 0.4240 - mae: 0.0876 - val_loss: 87.0653 - val_binary_crossentropy: 0.4142 - val_mae: 0.0836\n",
      "Epoch 37/100\n",
      "266/266 [==============================] - 0s 1ms/step - loss: 78.3102 - binary_crossentropy: 0.4187 - mae: 0.0861 - val_loss: 82.3489 - val_binary_crossentropy: 0.4057 - val_mae: 0.0818\n",
      "Epoch 38/100\n",
      "266/266 [==============================] - 0s 1ms/step - loss: 75.7012 - binary_crossentropy: 0.4171 - mae: 0.0857 - val_loss: 79.9771 - val_binary_crossentropy: 0.4069 - val_mae: 0.0830\n",
      "Epoch 39/100\n",
      "266/266 [==============================] - 0s 992us/step - loss: 77.2585 - binary_crossentropy: 0.4178 - mae: 0.0862 - val_loss: 77.0889 - val_binary_crossentropy: 0.4079 - val_mae: 0.0851\n",
      "Epoch 40/100\n",
      "266/266 [==============================] - 0s 1ms/step - loss: 77.0109 - binary_crossentropy: 0.4124 - mae: 0.0848 - val_loss: 74.8878 - val_binary_crossentropy: 0.4032 - val_mae: 0.0830\n",
      "Epoch 41/100\n"
     ]
    },
    {
     "name": "stdout",
     "output_type": "stream",
     "text": [
      "266/266 [==============================] - 0s 1ms/step - loss: 74.4970 - binary_crossentropy: 0.4140 - mae: 0.0874 - val_loss: 74.2708 - val_binary_crossentropy: 0.4027 - val_mae: 0.0822\n",
      "Epoch 42/100\n",
      "266/266 [==============================] - 0s 957us/step - loss: 72.7048 - binary_crossentropy: 0.4070 - mae: 0.0851 - val_loss: 74.0608 - val_binary_crossentropy: 0.4035 - val_mae: 0.0817\n",
      "Epoch 43/100\n",
      "266/266 [==============================] - 0s 1ms/step - loss: 70.9575 - binary_crossentropy: 0.4100 - mae: 0.0855 - val_loss: 74.1458 - val_binary_crossentropy: 0.4116 - val_mae: 0.0855\n",
      "Epoch 44/100\n",
      "266/266 [==============================] - 0s 1000us/step - loss: 74.3276 - binary_crossentropy: 0.4155 - mae: 0.0880 - val_loss: 71.7563 - val_binary_crossentropy: 0.4070 - val_mae: 0.0843\n",
      "Epoch 45/100\n",
      "266/266 [==============================] - 0s 1ms/step - loss: 72.4339 - binary_crossentropy: 0.4202 - mae: 0.0889 - val_loss: 73.5797 - val_binary_crossentropy: 0.4195 - val_mae: 0.0887\n",
      "Epoch 46/100\n",
      "266/266 [==============================] - 0s 1ms/step - loss: 72.1509 - binary_crossentropy: 0.4237 - mae: 0.0899 - val_loss: 71.4009 - val_binary_crossentropy: 0.4112 - val_mae: 0.0855\n",
      "Epoch 47/100\n",
      "266/266 [==============================] - 0s 940us/step - loss: 73.4926 - binary_crossentropy: 0.4217 - mae: 0.0888 - val_loss: 71.0116 - val_binary_crossentropy: 0.4147 - val_mae: 0.0871\n",
      "Epoch 48/100\n",
      "266/266 [==============================] - 0s 961us/step - loss: 70.7646 - binary_crossentropy: 0.4195 - mae: 0.0894 - val_loss: 68.8305 - val_binary_crossentropy: 0.4084 - val_mae: 0.0849\n",
      "Epoch 49/100\n",
      "266/266 [==============================] - 0s 1ms/step - loss: 71.7412 - binary_crossentropy: 0.4182 - mae: 0.0885 - val_loss: 69.1620 - val_binary_crossentropy: 0.4057 - val_mae: 0.0825\n",
      "Epoch 50/100\n",
      "266/266 [==============================] - 0s 976us/step - loss: 70.8521 - binary_crossentropy: 0.4138 - mae: 0.0861 - val_loss: 70.3181 - val_binary_crossentropy: 0.4064 - val_mae: 0.0810\n",
      "Epoch 51/100\n",
      "266/266 [==============================] - 0s 952us/step - loss: 70.7178 - binary_crossentropy: 0.4224 - mae: 0.0894 - val_loss: 69.1689 - val_binary_crossentropy: 0.4147 - val_mae: 0.0867\n",
      "Epoch 52/100\n",
      "266/266 [==============================] - 0s 915us/step - loss: 68.9915 - binary_crossentropy: 0.4169 - mae: 0.0875 - val_loss: 69.5008 - val_binary_crossentropy: 0.4115 - val_mae: 0.0840\n",
      "Epoch 53/100\n",
      "266/266 [==============================] - 0s 1ms/step - loss: 74.9300 - binary_crossentropy: 0.4302 - mae: 0.0918 - val_loss: 68.0289 - val_binary_crossentropy: 0.4126 - val_mae: 0.0857\n",
      "Epoch 54/100\n",
      "266/266 [==============================] - 0s 931us/step - loss: 72.7613 - binary_crossentropy: 0.4270 - mae: 0.0906 - val_loss: 69.2234 - val_binary_crossentropy: 0.4114 - val_mae: 0.0839\n",
      "Epoch 55/100\n",
      "266/266 [==============================] - 0s 944us/step - loss: 69.5990 - binary_crossentropy: 0.4231 - mae: 0.0895 - val_loss: 69.6600 - val_binary_crossentropy: 0.4125 - val_mae: 0.0839\n",
      "Epoch 56/100\n",
      "266/266 [==============================] - 0s 966us/step - loss: 70.3336 - binary_crossentropy: 0.4291 - mae: 0.0924 - val_loss: 68.4856 - val_binary_crossentropy: 0.4092 - val_mae: 0.0837\n",
      "Epoch 57/100\n",
      "266/266 [==============================] - 0s 970us/step - loss: 70.2604 - binary_crossentropy: 0.4290 - mae: 0.0916 - val_loss: 70.6170 - val_binary_crossentropy: 0.4202 - val_mae: 0.0874\n",
      "Epoch 58/100\n",
      "266/266 [==============================] - 0s 953us/step - loss: 70.1285 - binary_crossentropy: 0.4241 - mae: 0.0897 - val_loss: 69.5387 - val_binary_crossentropy: 0.4069 - val_mae: 0.0801\n",
      "Epoch 59/100\n",
      "266/266 [==============================] - 0s 936us/step - loss: 71.3916 - binary_crossentropy: 0.4211 - mae: 0.0887 - val_loss: 68.1483 - val_binary_crossentropy: 0.4087 - val_mae: 0.0831\n",
      "Epoch 60/100\n",
      "266/266 [==============================] - 0s 935us/step - loss: 69.9390 - binary_crossentropy: 0.4254 - mae: 0.0911 - val_loss: 68.1758 - val_binary_crossentropy: 0.4071 - val_mae: 0.0817\n",
      "Epoch 61/100\n",
      "266/266 [==============================] - 0s 906us/step - loss: 71.2091 - binary_crossentropy: 0.4240 - mae: 0.0896 - val_loss: 68.1235 - val_binary_crossentropy: 0.4113 - val_mae: 0.0845\n",
      "Epoch 62/100\n",
      "266/266 [==============================] - 0s 1ms/step - loss: 71.2310 - binary_crossentropy: 0.4305 - mae: 0.0930 - val_loss: 66.8348 - val_binary_crossentropy: 0.4101 - val_mae: 0.0845\n",
      "Epoch 63/100\n",
      "266/266 [==============================] - 0s 902us/step - loss: 69.1432 - binary_crossentropy: 0.4193 - mae: 0.0884 - val_loss: 69.3419 - val_binary_crossentropy: 0.4171 - val_mae: 0.0860\n",
      "Epoch 64/100\n",
      "266/266 [==============================] - 0s 878us/step - loss: 70.7441 - binary_crossentropy: 0.4273 - mae: 0.0912 - val_loss: 68.1383 - val_binary_crossentropy: 0.4038 - val_mae: 0.0795\n",
      "Epoch 65/100\n",
      "266/266 [==============================] - 0s 1ms/step - loss: 70.7874 - binary_crossentropy: 0.4286 - mae: 0.0916 - val_loss: 67.4949 - val_binary_crossentropy: 0.4197 - val_mae: 0.0895\n",
      "Epoch 66/100\n",
      "266/266 [==============================] - 0s 963us/step - loss: 70.1189 - binary_crossentropy: 0.4173 - mae: 0.0897 - val_loss: 69.8206 - val_binary_crossentropy: 0.4060 - val_mae: 0.0789\n",
      "Epoch 67/100\n",
      "266/266 [==============================] - 0s 968us/step - loss: 69.6567 - binary_crossentropy: 0.4221 - mae: 0.0887 - val_loss: 68.3381 - val_binary_crossentropy: 0.4037 - val_mae: 0.0791\n",
      "Epoch 68/100\n",
      "266/266 [==============================] - 0s 911us/step - loss: 70.0908 - binary_crossentropy: 0.4281 - mae: 0.0921 - val_loss: 68.2559 - val_binary_crossentropy: 0.4073 - val_mae: 0.0814\n",
      "Epoch 69/100\n",
      "266/266 [==============================] - 0s 1ms/step - loss: 69.0824 - binary_crossentropy: 0.4256 - mae: 0.0903 - val_loss: 68.8623 - val_binary_crossentropy: 0.4026 - val_mae: 0.0779\n",
      "Epoch 70/100\n",
      "266/266 [==============================] - 0s 952us/step - loss: 70.0552 - binary_crossentropy: 0.4303 - mae: 0.0921 - val_loss: 67.4336 - val_binary_crossentropy: 0.4100 - val_mae: 0.0838\n",
      "Epoch 71/100\n",
      "266/266 [==============================] - 0s 940us/step - loss: 70.8452 - binary_crossentropy: 0.4240 - mae: 0.0916 - val_loss: 67.2185 - val_binary_crossentropy: 0.4067 - val_mae: 0.0815\n",
      "Epoch 72/100\n",
      "266/266 [==============================] - 0s 972us/step - loss: 72.3076 - binary_crossentropy: 0.4245 - mae: 0.0888 - val_loss: 69.1249 - val_binary_crossentropy: 0.4196 - val_mae: 0.0875\n",
      "Epoch 73/100\n",
      "266/266 [==============================] - 0s 904us/step - loss: 70.6898 - binary_crossentropy: 0.4297 - mae: 0.0931 - val_loss: 67.8429 - val_binary_crossentropy: 0.4101 - val_mae: 0.0822\n",
      "Epoch 74/100\n",
      "266/266 [==============================] - 0s 963us/step - loss: 69.9004 - binary_crossentropy: 0.4216 - mae: 0.0884 - val_loss: 68.5103 - val_binary_crossentropy: 0.4113 - val_mae: 0.0825\n",
      "Epoch 75/100\n",
      "266/266 [==============================] - 0s 967us/step - loss: 69.7563 - binary_crossentropy: 0.4167 - mae: 0.0857 - val_loss: 67.7424 - val_binary_crossentropy: 0.4193 - val_mae: 0.0888\n",
      "Epoch 76/100\n",
      "266/266 [==============================] - 0s 968us/step - loss: 70.3728 - binary_crossentropy: 0.4357 - mae: 0.0949 - val_loss: 67.3238 - val_binary_crossentropy: 0.4161 - val_mae: 0.0876\n",
      "Epoch 77/100\n",
      "266/266 [==============================] - 0s 936us/step - loss: 68.9791 - binary_crossentropy: 0.4186 - mae: 0.0897 - val_loss: 66.5300 - val_binary_crossentropy: 0.4046 - val_mae: 0.0817\n",
      "Epoch 78/100\n",
      "266/266 [==============================] - 0s 1ms/step - loss: 68.5240 - binary_crossentropy: 0.4218 - mae: 0.0893 - val_loss: 67.7067 - val_binary_crossentropy: 0.4199 - val_mae: 0.0901\n",
      "Epoch 79/100\n",
      "266/266 [==============================] - 0s 974us/step - loss: 70.2700 - binary_crossentropy: 0.4256 - mae: 0.0934 - val_loss: 69.6276 - val_binary_crossentropy: 0.4076 - val_mae: 0.0811\n",
      "Epoch 80/100\n",
      "266/266 [==============================] - 0s 944us/step - loss: 70.6205 - binary_crossentropy: 0.4193 - mae: 0.0882 - val_loss: 66.7013 - val_binary_crossentropy: 0.4112 - val_mae: 0.0858\n",
      "Epoch 81/100\n",
      "266/266 [==============================] - 0s 962us/step - loss: 69.3045 - binary_crossentropy: 0.4243 - mae: 0.0905 - val_loss: 67.3331 - val_binary_crossentropy: 0.4173 - val_mae: 0.0895\n"
     ]
    },
    {
     "name": "stdout",
     "output_type": "stream",
     "text": [
      "Epoch 82/100\n",
      "266/266 [==============================] - 0s 919us/step - loss: 69.9587 - binary_crossentropy: 0.4219 - mae: 0.0910 - val_loss: 69.5694 - val_binary_crossentropy: 0.4150 - val_mae: 0.0864\n",
      "Epoch 83/100\n",
      "266/266 [==============================] - 0s 992us/step - loss: 69.2134 - binary_crossentropy: 0.4236 - mae: 0.0901 - val_loss: 68.0770 - val_binary_crossentropy: 0.4159 - val_mae: 0.0890\n",
      "Epoch 84/100\n",
      "266/266 [==============================] - 0s 917us/step - loss: 70.6865 - binary_crossentropy: 0.4169 - mae: 0.0896 - val_loss: 68.3463 - val_binary_crossentropy: 0.4133 - val_mae: 0.0874\n",
      "Epoch 85/100\n",
      "266/266 [==============================] - 0s 943us/step - loss: 69.0089 - binary_crossentropy: 0.4172 - mae: 0.0888 - val_loss: 67.8695 - val_binary_crossentropy: 0.4172 - val_mae: 0.0900\n",
      "Epoch 86/100\n",
      "266/266 [==============================] - 0s 938us/step - loss: 68.4004 - binary_crossentropy: 0.4220 - mae: 0.0911 - val_loss: 67.9284 - val_binary_crossentropy: 0.3973 - val_mae: 0.0780\n",
      "Epoch 87/100\n",
      "266/266 [==============================] - 0s 948us/step - loss: 69.9925 - binary_crossentropy: 0.4188 - mae: 0.0895 - val_loss: 67.3902 - val_binary_crossentropy: 0.4046 - val_mae: 0.0830\n",
      "Epoch 88/100\n",
      "266/266 [==============================] - 0s 1ms/step - loss: 68.5263 - binary_crossentropy: 0.4266 - mae: 0.0922 - val_loss: 67.8683 - val_binary_crossentropy: 0.4033 - val_mae: 0.0818\n",
      "Epoch 89/100\n",
      "266/266 [==============================] - 0s 2ms/step - loss: 68.7059 - binary_crossentropy: 0.4219 - mae: 0.0921 - val_loss: 67.2208 - val_binary_crossentropy: 0.4051 - val_mae: 0.0834\n",
      "Epoch 90/100\n",
      "266/266 [==============================] - 0s 1ms/step - loss: 68.2448 - binary_crossentropy: 0.4204 - mae: 0.0901 - val_loss: 67.2491 - val_binary_crossentropy: 0.3976 - val_mae: 0.0793\n",
      "Epoch 91/100\n",
      "266/266 [==============================] - 0s 2ms/step - loss: 70.2720 - binary_crossentropy: 0.4143 - mae: 0.0896 - val_loss: 66.8618 - val_binary_crossentropy: 0.4021 - val_mae: 0.0828\n",
      "Epoch 92/100\n",
      "266/266 [==============================] - 0s 2ms/step - loss: 68.0517 - binary_crossentropy: 0.4219 - mae: 0.0911 - val_loss: 66.1677 - val_binary_crossentropy: 0.4086 - val_mae: 0.0881\n",
      "Epoch 93/100\n",
      "266/266 [==============================] - 0s 1ms/step - loss: 68.6668 - binary_crossentropy: 0.4134 - mae: 0.0900 - val_loss: 67.2884 - val_binary_crossentropy: 0.4008 - val_mae: 0.0827\n",
      "Epoch 94/100\n",
      "266/266 [==============================] - 0s 995us/step - loss: 70.3922 - binary_crossentropy: 0.4119 - mae: 0.0882 - val_loss: 66.8114 - val_binary_crossentropy: 0.4066 - val_mae: 0.0875\n",
      "Epoch 95/100\n",
      "266/266 [==============================] - 0s 1ms/step - loss: 70.4688 - binary_crossentropy: 0.4081 - mae: 0.0879 - val_loss: 67.6496 - val_binary_crossentropy: 0.3939 - val_mae: 0.0801\n",
      "Epoch 96/100\n",
      "266/266 [==============================] - 0s 1ms/step - loss: 67.6339 - binary_crossentropy: 0.4082 - mae: 0.0865 - val_loss: 67.1417 - val_binary_crossentropy: 0.4136 - val_mae: 0.0924\n",
      "Epoch 97/100\n",
      "266/266 [==============================] - 0s 1ms/step - loss: 68.3125 - binary_crossentropy: 0.4159 - mae: 0.0912 - val_loss: 68.0120 - val_binary_crossentropy: 0.3975 - val_mae: 0.0834\n",
      "Epoch 98/100\n",
      "266/266 [==============================] - 0s 1ms/step - loss: 68.2340 - binary_crossentropy: 0.4042 - mae: 0.0862 - val_loss: 66.6654 - val_binary_crossentropy: 0.3902 - val_mae: 0.0801\n",
      "Epoch 99/100\n",
      "266/266 [==============================] - 0s 1ms/step - loss: 67.5418 - binary_crossentropy: 0.4067 - mae: 0.0865 - val_loss: 66.8537 - val_binary_crossentropy: 0.3950 - val_mae: 0.0832\n",
      "Epoch 100/100\n",
      "266/266 [==============================] - 0s 905us/step - loss: 70.1606 - binary_crossentropy: 0.4059 - mae: 0.0871 - val_loss: 67.0104 - val_binary_crossentropy: 0.3937 - val_mae: 0.0824\n"
     ]
    }
   ],
   "source": [
    "model = build_model ()\n",
    "history0 = model.fit ( x0_train, y0_train, epochs = 100, batch_size = 32 , validation_data = (x0_val, y0_val) )\n",
    "model.save(\"models/{}.h5\".format('BH_tcs_pred'))"
   ]
  },
  {
   "cell_type": "code",
   "execution_count": 19,
   "metadata": {},
   "outputs": [
    {
     "name": "stdout",
     "output_type": "stream",
     "text": [
      "Model: \"sequential\"\n",
      "_________________________________________________________________\n",
      "Layer (type)                 Output Shape              Param #   \n",
      "=================================================================\n",
      "batch_normalization (BatchNo (None, 2)                 8         \n",
      "_________________________________________________________________\n",
      "dense (Dense)                (None, 2)                 6         \n",
      "_________________________________________________________________\n",
      "dense_1 (Dense)              (None, 2)                 6         \n",
      "_________________________________________________________________\n",
      "dense_2 (Dense)              (None, 1)                 3         \n",
      "=================================================================\n",
      "Total params: 23\n",
      "Trainable params: 19\n",
      "Non-trainable params: 4\n",
      "_________________________________________________________________\n"
     ]
    }
   ],
   "source": [
    "model.summary()"
   ]
  },
  {
   "cell_type": "markdown",
   "metadata": {},
   "source": [
    "## Probability density distribution"
   ]
  },
  {
   "cell_type": "code",
   "execution_count": 20,
   "metadata": {},
   "outputs": [],
   "source": [
    "y_pred0 = model.predict(x0_train)"
   ]
  },
  {
   "cell_type": "code",
   "execution_count": 22,
   "metadata": {},
   "outputs": [
    {
     "data": {
      "image/png": "[encoded data removed]",
      "text/plain": [
       "<Figure size 432x288 with 1 Axes>"
      ]
     },
     "metadata": {
      "needs_background": "light"
     },
     "output_type": "display_data"
    }
   ],
   "source": [
    "from matplotlib import pyplot\n",
    "y0_val = np.array(y0_val)\n",
    "bins = np.linspace(0., 1., 100)\n",
    "pyplot.hist(y0_train, bins, color = 'indianred', alpha=0.5, label='Osiris')\n",
    "pyplot.hist(y_pred0, bins, color = 'mediumslateblue', alpha=0.5, label='NN')\n",
    "pyplot.yscale('log')\n",
    "pyplot.legend(loc='upper right')\n",
    "pyplot.xlabel('Probability')\n",
    "pyplot.title('Trained on ($p_e$, $p_{\\gamma}$)')\n",
    "pyplot.show()"
   ]
  },
  {
   "cell_type": "code",
   "execution_count": null,
   "metadata": {},
   "outputs": [],
   "source": []
  }
 ],
 "metadata": {
  "kernelspec": {
   "display_name": "Python 3 (ipykernel)",
   "language": "python",
   "name": "python3"
  },
  "language_info": {
   "codemirror_mode": {
    "name": "ipython",
    "version": 3
   },
   "file_extension": ".py",
   "mimetype": "text/x-python",
   "name": "python",
   "nbconvert_exporter": "python",
   "pygments_lexer": "ipython3",
   "version": "3.9.9"
  }
 },
 "nbformat": 4,
 "nbformat_minor": 4
}
